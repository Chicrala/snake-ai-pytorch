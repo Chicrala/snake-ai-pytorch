{
 "cells": [
  {
   "cell_type": "markdown",
   "id": "4d1a6130",
   "metadata": {},
   "source": [
    "<h1>Model performance review</h1>"
   ]
  },
  {
   "cell_type": "code",
   "execution_count": 1,
   "id": "2bae59c2",
   "metadata": {},
   "outputs": [],
   "source": [
    "import numpy as np\n",
    "import matplotlib as plt"
   ]
  },
  {
   "cell_type": "code",
   "execution_count": 2,
   "id": "b26e9d21",
   "metadata": {},
   "outputs": [],
   "source": [
    "rewards = np.load('rewards.npy')\n",
    "scores = np.load('scores.npy')"
   ]
  },
  {
   "cell_type": "code",
   "execution_count": 4,
   "id": "e463ddd1",
   "metadata": {},
   "outputs": [
    {
     "data": {
      "text/plain": [
       "11"
      ]
     },
     "execution_count": 4,
     "metadata": {},
     "output_type": "execute_result"
    }
   ],
   "source": [
    "len(rewards)"
   ]
  },
  {
   "cell_type": "code",
   "execution_count": null,
   "id": "6e2e1b50",
   "metadata": {},
   "outputs": [],
   "source": []
  }
 ],
 "metadata": {
  "kernelspec": {
   "display_name": "Python 3 (ipykernel)",
   "language": "python",
   "name": "python3"
  },
  "language_info": {
   "codemirror_mode": {
    "name": "ipython",
    "version": 3
   },
   "file_extension": ".py",
   "mimetype": "text/x-python",
   "name": "python",
   "nbconvert_exporter": "python",
   "pygments_lexer": "ipython3",
   "version": "3.10.4"
  }
 },
 "nbformat": 4,
 "nbformat_minor": 5
}
